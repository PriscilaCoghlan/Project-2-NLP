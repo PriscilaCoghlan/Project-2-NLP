{
  "cells": [
    {
      "cell_type": "markdown",
      "metadata": {
        "id": "view-in-github",
        "colab_type": "text"
      },
      "source": [
        "<a href=\"https://colab.research.google.com/github/solvedbrunus/Project-2-NLP/blob/main/nlp_project.ipynb\" target=\"_parent\"><img src=\"https://colab.research.google.com/assets/colab-badge.svg\" alt=\"Open In Colab\"/></a>"
      ]
    },
    {
      "cell_type": "code",
      "execution_count": 1,
      "metadata": {
        "id": "YMDjYTVwOidU"
      },
      "outputs": [],
      "source": [
        "# 1- Import Libraries:\n",
        "\n",
        "# Data Manipulation:\n",
        "# pandas: Provides data structures like DataFrames, which are useful for handling and processing structured data.\n",
        "\n",
        "import pandas as pd\n",
        "\n",
        "# Feature Extraction:\n",
        "# CountVectorizer: Converts a collection of text documents to a matrix of token counts.\n",
        "# TfidfVectorizer: Converts a collection of raw documents to a matrix of TF-IDF features, which reflect the importance of words in the documents.\n",
        "\n",
        "from sklearn.feature_extraction.text import CountVectorizer, TfidfVectorizer\n",
        "from sklearn.model_selection import train_test_split\n",
        "\n",
        "# Model Training:\n",
        "# MultinomialNB: Implements the Multinomial Naive Bayes algorithm, which is suitable for classification with discrete features (like word counts for text classification).\n",
        "\n",
        "from sklearn.naive_bayes import MultinomialNB\n",
        "\n",
        "# Model Evaluation:\n",
        "# accuracy_score: Calculates the accuracy of the model by comparing the predicted labels with the true labels.\n",
        "\n",
        "from sklearn.metrics import accuracy_score"
      ]
    },
    {
      "cell_type": "markdown",
      "metadata": {
        "id": "nw2JRK_tOidW"
      },
      "source": [
        "# 2- Load Dataset"
      ]
    },
    {
      "cell_type": "markdown",
      "metadata": {
        "id": "umrsVcNrOidX"
      },
      "source": [
        "2a - Define the file path once"
      ]
    },
    {
      "cell_type": "code",
      "execution_count": 2,
      "metadata": {
        "id": "U8B-qyzqOidY"
      },
      "outputs": [],
      "source": [
        "file_path = \"/content/training_data_lowercase.csv\""
      ]
    },
    {
      "cell_type": "markdown",
      "metadata": {
        "id": "tigQZj_0OidY"
      },
      "source": [
        "2b- Load the dataset"
      ]
    },
    {
      "cell_type": "code",
      "execution_count": 3,
      "metadata": {
        "id": "8rRBe7EnOidY"
      },
      "outputs": [],
      "source": [
        "data = pd.read_csv(file_path)"
      ]
    },
    {
      "cell_type": "markdown",
      "metadata": {
        "id": "7cWOU1bIOidY"
      },
      "source": [
        "2c- Install the chardet library detect the encoding programmatically"
      ]
    },
    {
      "cell_type": "code",
      "execution_count": null,
      "metadata": {
        "id": "9NYQLNKrOidZ",
        "outputId": "0c7728f6-f597-473f-af88-af9b2176265d"
      },
      "outputs": [
        {
          "name": "stdout",
          "output_type": "stream",
          "text": [
            "Requirement already satisfied: chardet in c:\\users\\920791\\appdata\\local\\miniconda3\\lib\\site-packages (5.2.0)\n",
            "Note: you may need to restart the kernel to use updated packages.\n"
          ]
        }
      ],
      "source": [
        "%pip install chardet"
      ]
    },
    {
      "cell_type": "markdown",
      "metadata": {
        "id": "2NRCRdAbOidZ"
      },
      "source": [
        "2d- Detect the encoding"
      ]
    },
    {
      "cell_type": "code",
      "execution_count": 4,
      "metadata": {
        "id": "VnrcaY-JOida",
        "outputId": "31357d8b-cec3-4f51-a531-37f4d283a6f2",
        "colab": {
          "base_uri": "https://localhost:8080/"
        }
      },
      "outputs": [
        {
          "output_type": "stream",
          "name": "stdout",
          "text": [
            "The detected encoding is: UTF-8-SIG\n"
          ]
        }
      ],
      "source": [
        "import chardet\n",
        "\n",
        "# Read the first few bytes of the file to detect the encoding\n",
        "with open(file_path, 'rb') as file:\n",
        "    raw_data = file.read(10000)\n",
        "    result = chardet.detect(raw_data)\n",
        "    encoding = result['encoding']\n",
        "    print(f\"The detected encoding is: {encoding}\")"
      ]
    },
    {
      "cell_type": "markdown",
      "metadata": {
        "id": "wU0zwvcBOida"
      },
      "source": [
        "2e- Load the dataset with the correct encoding to handle BOM"
      ]
    },
    {
      "cell_type": "code",
      "execution_count": 5,
      "metadata": {
        "id": "6QyrYWytOida"
      },
      "outputs": [],
      "source": [
        "data = pd.read_csv(file_path, encoding='utf-8-sig')"
      ]
    },
    {
      "cell_type": "markdown",
      "metadata": {
        "id": "I6o6HB8KOida"
      },
      "source": [
        "2f- Display the column names to verify they are correctly parsed"
      ]
    },
    {
      "cell_type": "code",
      "execution_count": 6,
      "metadata": {
        "id": "GJgQhysjOidb",
        "outputId": "441c2901-764a-4dc6-bb3c-f1f21996403c",
        "colab": {
          "base_uri": "https://localhost:8080/"
        }
      },
      "outputs": [
        {
          "output_type": "stream",
          "name": "stdout",
          "text": [
            "Index(['0\\tdonald trump sends out embarrassing new year‚s eve message; this is disturbing'], dtype='object')\n"
          ]
        }
      ],
      "source": [
        "print(data.columns)"
      ]
    },
    {
      "cell_type": "markdown",
      "metadata": {
        "id": "kj-S_UjhOidb"
      },
      "source": [
        "2g- Display the first few rows of the dataset"
      ]
    },
    {
      "cell_type": "code",
      "execution_count": 7,
      "metadata": {
        "id": "J6fmYA9zOidb",
        "outputId": "403c6737-8d81-4b74-a758-0f3dcf5cfb4e",
        "colab": {
          "base_uri": "https://localhost:8080/"
        }
      },
      "outputs": [
        {
          "output_type": "stream",
          "name": "stdout",
          "text": [
            "  0\\tdonald trump sends out embarrassing new year‚s eve message; this is disturbing\n",
            "0  0\\tdrunk bragging trump staffer started russia...                               \n",
            "1  0\\tsheriff david clarke becomes an internet jo...                               \n",
            "2  0\\ttrump is so obsessed he even has obama‚s na...                               \n",
            "3  0\\tpope francis just called out donald trump d...                               \n",
            "4  0\\tracist alabama cops brutalize black boy whi...                               \n"
          ]
        }
      ],
      "source": [
        "print(data.head())"
      ]
    },
    {
      "cell_type": "markdown",
      "metadata": {
        "id": "XbNSFMtOOidb"
      },
      "source": [
        "2h- Load the dataset with the correct encoding to handle BOM"
      ]
    },
    {
      "cell_type": "code",
      "execution_count": 8,
      "metadata": {
        "id": "WuUkVW_BOidb"
      },
      "outputs": [],
      "source": [
        "data = pd.read_csv(file_path, encoding='utf-8-sig', header=None)"
      ]
    },
    {
      "cell_type": "markdown",
      "metadata": {
        "id": "wzKaqgDhOidb"
      },
      "source": [
        "2i- Display the first few rows of the dataset"
      ]
    },
    {
      "cell_type": "code",
      "execution_count": 9,
      "metadata": {
        "id": "Y9Dqfri9Oidc",
        "outputId": "0fed10da-ed22-44b1-8773-056865895d60",
        "colab": {
          "base_uri": "https://localhost:8080/"
        }
      },
      "outputs": [
        {
          "output_type": "stream",
          "name": "stdout",
          "text": [
            "                                                   0\n",
            "0  0\\tdonald trump sends out embarrassing new yea...\n",
            "1  0\\tdrunk bragging trump staffer started russia...\n",
            "2  0\\tsheriff david clarke becomes an internet jo...\n",
            "3  0\\ttrump is so obsessed he even has obama‚s na...\n",
            "4  0\\tpope francis just called out donald trump d...\n"
          ]
        }
      ],
      "source": [
        "print(data.head())"
      ]
    },
    {
      "cell_type": "markdown",
      "metadata": {
        "id": "tCILa7kgOidc"
      },
      "source": [
        "2j- Separate the first part of the sentences with the separator '0\\t' and assign it as the label column"
      ]
    },
    {
      "cell_type": "code",
      "execution_count": 10,
      "metadata": {
        "id": "vytbOb5OOidc"
      },
      "outputs": [],
      "source": [
        "data[['label', 'text']] = data[0].str.split('\\t', n=1, expand=True)"
      ]
    },
    {
      "cell_type": "markdown",
      "metadata": {
        "id": "zaeXYXLKOidc"
      },
      "source": [
        "Drop the original column"
      ]
    },
    {
      "cell_type": "code",
      "execution_count": 11,
      "metadata": {
        "id": "ZKZfCGUrOidc"
      },
      "outputs": [],
      "source": [
        "data = data.drop(columns=[0])"
      ]
    },
    {
      "cell_type": "markdown",
      "metadata": {
        "id": "ULQ-WBKgOidc"
      },
      "source": [
        "2k- Display the first few rows of the dataset after removing the first part"
      ]
    },
    {
      "cell_type": "code",
      "execution_count": 12,
      "metadata": {
        "id": "FY4ZBMC5Oidc",
        "outputId": "55dfa4d6-a542-4623-b730-a8744c8e8653",
        "colab": {
          "base_uri": "https://localhost:8080/"
        }
      },
      "outputs": [
        {
          "output_type": "stream",
          "name": "stdout",
          "text": [
            "  label                                               text\n",
            "0     0  donald trump sends out embarrassing new year‚s...\n",
            "1     0  drunk bragging trump staffer started russian c...\n",
            "2     0  sheriff david clarke becomes an internet joke ...\n",
            "3     0  trump is so obsessed he even has obama‚s name ...\n",
            "4     0  pope francis just called out donald trump duri...\n"
          ]
        }
      ],
      "source": [
        "print(data.head())"
      ]
    },
    {
      "cell_type": "markdown",
      "metadata": {
        "id": "9AMz6IRaOidc"
      },
      "source": [
        "# 3- Preprocess Data"
      ]
    },
    {
      "cell_type": "code",
      "execution_count": 13,
      "metadata": {
        "id": "vSC9CvddOidd",
        "outputId": "79f56463-af2e-40bf-c2b3-2157f251e5c3",
        "colab": {
          "base_uri": "https://localhost:8080/"
        }
      },
      "outputs": [
        {
          "output_type": "stream",
          "name": "stdout",
          "text": [
            "label    0\n",
            "text     0\n",
            "dtype: int64\n"
          ]
        }
      ],
      "source": [
        "# 3a- Check for missing values in the dataset\n",
        "\n",
        "print(data.isnull().sum())"
      ]
    },
    {
      "cell_type": "markdown",
      "metadata": {
        "id": "ZRx4IeHHOidd"
      },
      "source": [
        "Output 0    0: Means that the column 0 (the only column in your DataFrame) has zero missing values."
      ]
    },
    {
      "cell_type": "code",
      "execution_count": null,
      "metadata": {
        "id": "RN1itnOUOidd"
      },
      "outputs": [],
      "source": [
        "# Drop rows with missing values in the 'label' column\n",
        "\n",
        "data = data.dropna(subset=['label'])"
      ]
    },
    {
      "cell_type": "code",
      "execution_count": null,
      "metadata": {
        "id": "W6kG2G-rOidd",
        "outputId": "f7bfc3b3-42e3-4385-c041-8c2635271c91"
      },
      "outputs": [
        {
          "name": "stdout",
          "output_type": "stream",
          "text": [
            "label    0\n",
            "text     0\n",
            "dtype: int64\n",
            "  label                                               text\n",
            "0     0  donald trump sends out embarrassing new year‚s...\n",
            "1     0  drunk bragging trump staffer started russian c...\n",
            "2     0  sheriff david clarke becomes an internet joke ...\n",
            "3     0  trump is so obsessed he even has obama‚s name ...\n",
            "4     0  pope francis just called out donald trump duri...\n",
            "(34152, 2)\n"
          ]
        }
      ],
      "source": [
        "# 3b- Check Data After Preprocessing\n",
        "\n",
        "print(data.isnull().sum())\n",
        "print(data.head())\n",
        "print(data.shape)"
      ]
    },
    {
      "cell_type": "code",
      "execution_count": null,
      "metadata": {
        "id": "hi4jzv3dOide"
      },
      "outputs": [],
      "source": [
        "# 4- Split Data: We split the dataset into training and testing sets. The training set is used to train the model, and the testing set is used to evaluate the model’s performance.\n",
        "\n",
        "X_train, X_test, y_train, y_test = train_test_split(data['text'], data['label'], test_size=0.2, random_state=42)"
      ]
    },
    {
      "cell_type": "code",
      "execution_count": null,
      "metadata": {
        "id": "70lrlxJpOide"
      },
      "outputs": [],
      "source": [
        "# 5- Feature Extraction: We use two methods to convert the text data into numerical features:"
      ]
    },
    {
      "cell_type": "code",
      "execution_count": null,
      "metadata": {
        "id": "rV8MPHnfOide"
      },
      "outputs": [],
      "source": [
        "# 5a- Method 1: Count Vectorizer: Converts text into a matrix of token counts.\n",
        "\n",
        "count_vectorizer = CountVectorizer()\n",
        "X_train_count = count_vectorizer.fit_transform(X_train)\n",
        "X_test_count = count_vectorizer.transform(X_test)"
      ]
    },
    {
      "cell_type": "code",
      "execution_count": null,
      "metadata": {
        "id": "8aRg1f1fOide"
      },
      "outputs": [],
      "source": [
        "# 5b- Method 2: TF-IDF Vectorizer: Converts text into a matrix of TF-IDF features, which reflect the importance of words in the documents.\n",
        "\n",
        "tfidf_vectorizer = TfidfVectorizer()\n",
        "X_train_tfidf = tfidf_vectorizer.fit_transform(X_train)\n",
        "X_test_tfidf = tfidf_vectorizer.transform(X_test)"
      ]
    },
    {
      "cell_type": "code",
      "execution_count": null,
      "metadata": {
        "id": "6ersFsxoOidf"
      },
      "outputs": [],
      "source": [
        "# 6- Train and Evaluate Model:"
      ]
    },
    {
      "cell_type": "code",
      "execution_count": null,
      "metadata": {
        "id": "3Im8IsqCOidf"
      },
      "outputs": [],
      "source": [
        "# 6a- Using Count Vectorizer features\n",
        "model_count = MultinomialNB()\n",
        "model_count.fit(X_train_count, y_train)\n",
        "y_pred_count = model_count.predict(X_test_count)\n",
        "accuracy_count = accuracy_score(y_test, y_pred_count)\n"
      ]
    },
    {
      "cell_type": "code",
      "execution_count": null,
      "metadata": {
        "id": "t9abblflOidf"
      },
      "outputs": [],
      "source": [
        "# 6b- Using TF-IDF Vectorizer features\n",
        "model_tfidf = MultinomialNB()\n",
        "model_tfidf.fit(X_train_tfidf, y_train)\n",
        "y_pred_tfidf = model_tfidf.predict(X_test_tfidf)\n",
        "accuracy_tfidf = accuracy_score(y_test, y_pred_tfidf)"
      ]
    },
    {
      "cell_type": "code",
      "execution_count": null,
      "metadata": {
        "id": "gLfD7t7dOidf",
        "outputId": "e6f199df-96b2-4db2-86e1-b0d6b17af1e5"
      },
      "outputs": [
        {
          "name": "stdout",
          "output_type": "stream",
          "text": [
            "The best feature representation is Count Vectorizer with an accuracy of 0.9448104230712926.\n"
          ]
        }
      ],
      "source": [
        "# 6c- Compare the accuracies\n",
        "if accuracy_tfidf > accuracy_count:\n",
        "    best_representation = \"TF-IDF Vectorizer\"\n",
        "    best_accuracy = accuracy_tfidf\n",
        "else:\n",
        "    best_representation = \"Count Vectorizer\"\n",
        "    best_accuracy = accuracy_count\n",
        "\n",
        "print(f\"The best feature representation is {best_representation} with an accuracy of {best_accuracy}.\")"
      ]
    },
    {
      "cell_type": "code",
      "execution_count": null,
      "metadata": {
        "id": "lIBNzXiwOidk"
      },
      "outputs": [],
      "source": []
    }
  ],
  "metadata": {
    "kernelspec": {
      "display_name": "Python 3",
      "language": "python",
      "name": "python3"
    },
    "language_info": {
      "codemirror_mode": {
        "name": "ipython",
        "version": 3
      },
      "file_extension": ".py",
      "mimetype": "text/x-python",
      "name": "python",
      "nbconvert_exporter": "python",
      "pygments_lexer": "ipython3",
      "version": "3.12.4"
    },
    "colab": {
      "provenance": [],
      "include_colab_link": true
    }
  },
  "nbformat": 4,
  "nbformat_minor": 0
}